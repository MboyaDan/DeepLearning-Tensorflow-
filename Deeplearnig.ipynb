{
 "cells": [
  {
   "cell_type": "code",
   "execution_count": 28,
   "metadata": {},
   "outputs": [],
   "source": [
    "import tensorflow as tf\n",
    "from tensorflow import keras\n",
    "import matplotlib.pyplot as plt\n",
    "%matplotlib inline\n",
    "import numpy as np"
   ]
  },
  {
   "cell_type": "code",
   "execution_count": 29,
   "metadata": {},
   "outputs": [],
   "source": [
    "(X_train, y_train) , (X_test, y_test) = keras.datasets.mnist.load_data()"
   ]
  },
  {
   "cell_type": "code",
   "execution_count": 30,
   "metadata": {},
   "outputs": [
    {
     "data": {
      "text/plain": [
       "60000"
      ]
     },
     "execution_count": 30,
     "metadata": {},
     "output_type": "execute_result"
    }
   ],
   "source": [
    "len(X_train)"
   ]
  },
  {
   "cell_type": "code",
   "execution_count": 31,
   "metadata": {},
   "outputs": [
    {
     "data": {
      "text/plain": [
       "10000"
      ]
     },
     "execution_count": 31,
     "metadata": {},
     "output_type": "execute_result"
    }
   ],
   "source": [
    "len(X_test)"
   ]
  },
  {
   "cell_type": "code",
   "execution_count": 32,
   "metadata": {},
   "outputs": [
    {
     "data": {
      "text/plain": [
       "(28, 28)"
      ]
     },
     "execution_count": 32,
     "metadata": {},
     "output_type": "execute_result"
    }
   ],
   "source": [
    "X_train[0].shape"
   ]
  },
  {
   "cell_type": "code",
   "execution_count": 33,
   "metadata": {},
   "outputs": [
    {
     "data": {
      "text/plain": [
       "<matplotlib.image.AxesImage at 0x1edc45ee7b0>"
      ]
     },
     "execution_count": 33,
     "metadata": {},
     "output_type": "execute_result"
    },
    {
     "data": {
      "image/png": "[encoded data removed]",
      "text/plain": [
       "<Figure size 480x480 with 1 Axes>"
      ]
     },
     "metadata": {},
     "output_type": "display_data"
    }
   ],
   "source": [
    "plt.matshow(X_train[0])"
   ]
  },
  {
   "cell_type": "code",
   "execution_count": 34,
   "metadata": {},
   "outputs": [
    {
     "data": {
      "text/plain": [
       "5"
      ]
     },
     "execution_count": 34,
     "metadata": {},
     "output_type": "execute_result"
    }
   ],
   "source": [
    "y_train[0]"
   ]
  },
  {
   "cell_type": "code",
   "execution_count": 35,
   "metadata": {},
   "outputs": [],
   "source": [
    "X_train = X_train / 255\n",
    "X_test = X_test / 255"
   ]
  },
  {
   "cell_type": "code",
   "execution_count": 36,
   "metadata": {},
   "outputs": [],
   "source": [
    "\n",
    "X_train_flattened = X_train.reshape(len(X_train), 28*28)\n",
    "X_test_flattened = X_test.reshape(len(X_test), 28*28)"
   ]
  },
  {
   "cell_type": "code",
   "execution_count": 37,
   "metadata": {},
   "outputs": [
    {
     "data": {
      "text/plain": [
       "(60000, 784)"
      ]
     },
     "execution_count": 37,
     "metadata": {},
     "output_type": "execute_result"
    }
   ],
   "source": [
    "X_train_flattened.shape"
   ]
  },
  {
   "cell_type": "markdown",
   "metadata": {},
   "source": [
    "Using Flatten layer so that we don't have to call .reshape on input dataset"
   ]
  },
  {
   "cell_type": "code",
   "execution_count": 43,
   "metadata": {},
   "outputs": [
    {
     "name": "stdout",
     "output_type": "stream",
     "text": [
      "Epoch 1/5\n",
      "\u001b[1m1875/1875\u001b[0m \u001b[32m━━━━━━━━━━━━━━━━━━━━\u001b[0m\u001b[37m\u001b[0m \u001b[1m4s\u001b[0m 2ms/step - accuracy: 0.7082 - loss: 1.0795\n",
      "Epoch 2/5\n",
      "\u001b[1m1875/1875\u001b[0m \u001b[32m━━━━━━━━━━━━━━━━━━━━\u001b[0m\u001b[37m\u001b[0m \u001b[1m5s\u001b[0m 3ms/step - accuracy: 0.9010 - loss: 0.3545\n",
      "Epoch 3/5\n",
      "\u001b[1m1875/1875\u001b[0m \u001b[32m━━━━━━━━━━━━━━━━━━━━\u001b[0m\u001b[37m\u001b[0m \u001b[1m5s\u001b[0m 3ms/step - accuracy: 0.9186 - loss: 0.2934\n",
      "Epoch 4/5\n",
      "\u001b[1m1875/1875\u001b[0m \u001b[32m━━━━━━━━━━━━━━━━━━━━\u001b[0m\u001b[37m\u001b[0m \u001b[1m5s\u001b[0m 2ms/step - accuracy: 0.9264 - loss: 0.2600\n",
      "Epoch 5/5\n",
      "\u001b[1m1875/1875\u001b[0m \u001b[32m━━━━━━━━━━━━━━━━━━━━\u001b[0m\u001b[37m\u001b[0m \u001b[1m5s\u001b[0m 3ms/step - accuracy: 0.9323 - loss: 0.2411\n"
     ]
    },
    {
     "data": {
      "text/plain": [
       "<keras.src.callbacks.history.History at 0x1edc467d8e0>"
      ]
     },
     "execution_count": 43,
     "metadata": {},
     "output_type": "execute_result"
    }
   ],
   "source": [
    "model = keras.Sequential([\n",
    "    keras.layers.Flatten(input_shape=(28, 28)),\n",
    "    keras.layers.Dense(100, activation='relu'),\n",
    "    keras.layers.Dense(10, activation='sigmoid')\n",
    "])\n",
    "\n",
    "model.compile(optimizer='SGD',\n",
    "              loss='sparse_categorical_crossentropy',\n",
    "              metrics=['accuracy'])\n",
    "\n",
    "tb_callback = tf.keras.callbacks.TensorBoard(log_dir=\"logs/fit\", histogram_freq=0)\n",
    "\n",
    "model.fit(X_train, y_train, epochs=5, callbacks=[tb_callback])"
   ]
  },
  {
   "cell_type": "code",
   "execution_count": 44,
   "metadata": {},
   "outputs": [
    {
     "name": "stdout",
     "output_type": "stream",
     "text": [
      "The tensorboard extension is already loaded. To reload it, use:\n",
      "  %reload_ext tensorboard\n"
     ]
    },
    {
     "data": {
      "text/plain": [
       "Reusing TensorBoard on port 6006 (pid 21656), started 0:16:35 ago. (Use '!kill 21656' to kill it.)"
      ]
     },
     "metadata": {},
     "output_type": "display_data"
    },
    {
     "data": {
      "text/html": [
       "\n",
       "      <iframe id=\"tensorboard-frame-cd04c3825bb9466b\" width=\"100%\" height=\"800\" frameborder=\"0\">\n",
       "      </iframe>\n",
       "      <script>\n",
       "        (function() {\n",
       "          const frame = document.getElementById(\"tensorboard-frame-cd04c3825bb9466b\");\n",
       "          const url = new URL(\"http://localhost\");\n",
       "          const port = 6006;\n",
       "          if (port) {\n",
       "            url.port = port;\n",
       "          }\n",
       "          frame.src = url;\n",
       "        })();\n",
       "      </script>\n",
       "    "
      ],
      "text/plain": [
       "<IPython.core.display.HTML object>"
      ]
     },
     "metadata": {},
     "output_type": "display_data"
    }
   ],
   "source": [
    "%load_ext tensorboard\n",
    "%tensorboard --logdir logs/fit"
   ]
  },
  {
   "cell_type": "markdown",
   "metadata": {},
   "source": [
    "\n",
    "Either run above inline magic or go to git bash or your command prompt and type below to run it, tensorboard --logdir logs/ This will launch tensorboard at this url which you can open in your browser http://localhost:6006/"
   ]
  },
  {
   "cell_type": "code",
   "execution_count": 40,
   "metadata": {},
   "outputs": [
    {
     "data": {
      "text/plain": [
       "[array([[-6.0639992e-02, -5.3761184e-02,  3.4395434e-02, ...,\n",
       "         -5.6940585e-02, -6.7957073e-02, -4.6758082e-02],\n",
       "        [-5.5188328e-02,  3.0952536e-02, -6.1406136e-02, ...,\n",
       "         -1.2833096e-02, -2.5549896e-02, -4.7781542e-03],\n",
       "        [-4.0116757e-03, -7.7999197e-02, -6.9146290e-02, ...,\n",
       "         -2.3573831e-02, -1.7883867e-02, -1.2700982e-02],\n",
       "        ...,\n",
       "        [ 3.3094078e-02, -2.5070116e-02, -3.2571305e-02, ...,\n",
       "         -4.5793947e-02, -3.7037876e-02, -7.8267217e-02],\n",
       "        [-4.2266369e-02,  5.2957088e-03, -3.6276877e-05, ...,\n",
       "          1.5721045e-02, -2.3445666e-02,  7.9281002e-02],\n",
       "        [ 4.3595165e-02,  1.4911830e-02,  3.5264991e-02, ...,\n",
       "          5.1850319e-02, -5.9228979e-02, -2.8657541e-03]], dtype=float32),\n",
       " array([ 0.04610821, -0.00071276,  0.13753714,  0.04338594,  0.02298414,\n",
       "        -0.01848115,  0.05991838,  0.06576505, -0.00324102, -0.01439821,\n",
       "        -0.02911006, -0.02754826,  0.0008787 ,  0.0260392 ,  0.02449569,\n",
       "         0.06515457, -0.00497456,  0.01149109,  0.04458129,  0.07129936,\n",
       "         0.07853847, -0.00791889, -0.00049813,  0.06518777, -0.01321986,\n",
       "         0.03577688, -0.03816552,  0.10043308,  0.03141608, -0.03171301,\n",
       "         0.08920639, -0.00921284,  0.00515407, -0.00137152,  0.10201737,\n",
       "         0.01556753, -0.00962159,  0.02237636, -0.04404823, -0.00383843,\n",
       "         0.03242623,  0.01483338, -0.010614  , -0.06977876, -0.01436291,\n",
       "        -0.08940578, -0.02653948,  0.0003693 , -0.03444452,  0.00886164,\n",
       "         0.00374196, -0.0327245 ,  0.035773  ,  0.06486952,  0.03789371,\n",
       "         0.03954661,  0.06322469,  0.00698323, -0.11071212,  0.00609043,\n",
       "         0.10086391,  0.07036594,  0.00359987,  0.07090779, -0.11073385,\n",
       "         0.02544666, -0.00658689,  0.09048577,  0.01431559,  0.04792862,\n",
       "        -0.0903497 ,  0.00570974, -0.00450217,  0.05851255,  0.04157845,\n",
       "         0.07735486,  0.09141458,  0.05464796,  0.05106727,  0.0129101 ,\n",
       "         0.12977117,  0.0767271 , -0.09778652, -0.04983406,  0.04992998,\n",
       "         0.01989772,  0.05304282, -0.0002145 ,  0.08019286, -0.00959784,\n",
       "         0.0863651 , -0.02076449,  0.08117931, -0.03057815,  0.03378084,\n",
       "         0.07487776,  0.09328157,  0.04045502, -0.01834645,  0.00460858],\n",
       "       dtype=float32),\n",
       " array([[-1.98677525e-01,  3.30212742e-01,  2.55577177e-01,\n",
       "          5.23969568e-02,  3.95930976e-01, -2.14746837e-02,\n",
       "         -1.95206881e-01,  1.34882152e-01, -2.79723089e-02,\n",
       "         -2.45248303e-01],\n",
       "        [ 7.62458593e-02, -7.88703263e-02, -7.43113235e-02,\n",
       "          2.79806256e-01,  6.25701342e-03, -2.07811762e-02,\n",
       "         -2.61660606e-01,  1.81317627e-02,  3.17309946e-02,\n",
       "          8.02263916e-02],\n",
       "        [-1.22240208e-01, -1.47238716e-01, -2.85478204e-01,\n",
       "          8.11861604e-02,  1.89667031e-01,  2.52398044e-01,\n",
       "         -2.30962127e-01,  2.98439085e-01, -1.62574813e-01,\n",
       "          1.70146063e-01],\n",
       "        [-3.13399374e-01, -3.17336500e-01,  3.38678211e-01,\n",
       "          1.26501471e-01,  1.72635600e-01, -1.31832093e-01,\n",
       "          4.26747233e-01, -2.92381555e-01, -3.60764265e-01,\n",
       "         -3.71186972e-01],\n",
       "        [ 1.71977222e-01, -3.92730720e-02,  2.05733314e-01,\n",
       "         -1.44429862e-01,  2.14312494e-01,  1.54975494e-02,\n",
       "          2.15860933e-01,  1.10490382e-01, -3.47731039e-02,\n",
       "          1.47328660e-01],\n",
       "        [ 1.74672455e-01,  1.07018808e-02, -1.79730225e-02,\n",
       "         -1.27086967e-01, -9.83876958e-02,  1.33313254e-01,\n",
       "         -1.36595801e-01, -2.26731569e-01, -1.43065184e-01,\n",
       "          1.61976904e-01],\n",
       "        [-2.20979820e-03,  1.78598631e-02, -1.84787527e-01,\n",
       "         -1.48899108e-01, -1.40985429e-01,  3.93839538e-01,\n",
       "          1.28006801e-01,  2.38383740e-01, -4.12513584e-01,\n",
       "         -2.49008415e-04],\n",
       "        [-1.12264767e-01,  1.20027520e-01, -3.71205389e-01,\n",
       "          2.15223879e-01, -2.46727064e-01, -1.15331091e-01,\n",
       "         -1.94411561e-01,  3.56271327e-01, -6.01955354e-02,\n",
       "          3.65686685e-01],\n",
       "        [-2.94921398e-01,  2.50276804e-01,  3.93041931e-02,\n",
       "         -3.04791867e-03, -3.60403061e-01,  2.30867967e-01,\n",
       "         -2.06560254e-01, -1.63064688e-01,  2.57474542e-01,\n",
       "          3.49253476e-01],\n",
       "        [-1.28498650e-03, -2.87983894e-01, -2.47312680e-01,\n",
       "         -4.03114885e-01,  2.74455369e-01, -2.50175357e-01,\n",
       "          3.25025082e-01, -6.71247765e-02,  1.99408550e-02,\n",
       "          2.68027574e-01],\n",
       "        [ 2.32477635e-01,  1.04301736e-01,  4.26474363e-01,\n",
       "          2.23049402e-01,  8.98973122e-02, -2.98032433e-01,\n",
       "          1.74521178e-01, -8.94367229e-03, -2.09120646e-01,\n",
       "         -8.36335197e-02],\n",
       "        [ 1.43890709e-01, -3.71812731e-02, -7.03389272e-02,\n",
       "         -1.56587973e-01, -2.09562659e-01, -3.41347046e-02,\n",
       "          3.34379941e-01, -2.71972716e-01,  1.63549989e-01,\n",
       "         -2.72050351e-01],\n",
       "        [ 1.57713428e-01,  7.65908062e-02,  1.36265144e-01,\n",
       "          1.90828387e-02, -1.94963869e-02, -2.17952907e-01,\n",
       "          1.07269704e-01,  1.83429241e-01, -7.40746254e-05,\n",
       "         -1.28554564e-03],\n",
       "        [-1.37810603e-01, -7.15554804e-02,  9.55105796e-02,\n",
       "         -3.76198553e-02, -2.66935468e-01,  1.87370759e-02,\n",
       "         -1.79554403e-01, -4.63069081e-02, -1.61338732e-01,\n",
       "          2.13148206e-01],\n",
       "        [-2.31651470e-01,  2.96518683e-01, -1.25467241e-01,\n",
       "          3.66857022e-01, -2.50551919e-03,  2.80610826e-02,\n",
       "         -6.50106519e-02, -3.48447055e-01,  1.79789085e-02,\n",
       "         -1.01715043e-01],\n",
       "        [ 6.91022202e-02, -9.84699130e-02,  2.82917529e-01,\n",
       "          3.99681270e-01, -8.66206512e-02,  4.30594563e-01,\n",
       "          3.72760333e-02, -3.77734363e-01,  2.34352704e-02,\n",
       "         -3.12550932e-01],\n",
       "        [ 1.55205116e-01, -3.04531723e-01,  1.78909525e-01,\n",
       "         -1.59624338e-01,  3.23758274e-01, -4.06160802e-01,\n",
       "         -1.44605776e-02,  3.42347234e-01, -5.52228056e-02,\n",
       "          4.54891771e-01],\n",
       "        [ 9.33213830e-02,  1.49775490e-01, -2.72963732e-01,\n",
       "         -1.26832440e-01,  2.15617448e-01, -1.24143928e-01,\n",
       "         -2.05460176e-01, -1.62066102e-01, -7.78837800e-02,\n",
       "         -2.30103042e-02],\n",
       "        [ 1.25660464e-01, -6.34535626e-02,  1.56726446e-02,\n",
       "         -7.35627115e-02, -1.92089692e-01,  2.78495431e-01,\n",
       "         -1.65651262e-01,  1.87406674e-01, -1.47398800e-01,\n",
       "         -3.56678426e-01],\n",
       "        [-3.19729716e-01,  3.74064773e-01, -5.40991947e-02,\n",
       "         -1.65708244e-01, -1.59926221e-01,  8.14405009e-02,\n",
       "          3.79600823e-02, -2.59180814e-01,  1.02881767e-01,\n",
       "          1.66682079e-01],\n",
       "        [-2.90998697e-01,  3.19573104e-01,  4.01585996e-01,\n",
       "         -1.58302948e-01,  3.11112069e-02,  1.52491689e-01,\n",
       "         -7.40912557e-02,  3.43209177e-01, -3.51407379e-02,\n",
       "         -5.33592522e-01],\n",
       "        [ 1.61374852e-01, -2.45785303e-02,  9.50000808e-02,\n",
       "         -1.52642354e-01, -1.40076458e-01, -2.99923215e-03,\n",
       "          1.80824324e-01, -1.59265906e-01,  8.40440392e-02,\n",
       "          8.03196207e-02],\n",
       "        [ 1.10078163e-01, -2.45852582e-02,  6.01527058e-02,\n",
       "         -5.05156592e-02, -2.39246562e-01, -1.13549016e-01,\n",
       "          5.81021756e-02,  1.60550937e-01, -2.43562222e-01,\n",
       "          1.79420486e-01],\n",
       "        [-1.48946464e-01, -1.21750139e-01, -4.44007963e-01,\n",
       "         -1.22117519e-01,  4.35638487e-01,  1.91043839e-01,\n",
       "          2.08241090e-01,  2.63844401e-01, -9.03867409e-02,\n",
       "         -3.84982377e-01],\n",
       "        [ 2.19482258e-01, -3.15595299e-01,  2.33761281e-01,\n",
       "          3.30346644e-01, -4.41176206e-01, -1.05736457e-01,\n",
       "          1.69896692e-01,  1.96963087e-01, -4.48968401e-03,\n",
       "         -9.97252315e-02],\n",
       "        [-1.10439099e-01, -2.73942113e-01, -3.02763402e-01,\n",
       "          1.74585491e-01, -3.66142422e-01,  5.03618658e-01,\n",
       "          1.84384614e-01, -7.86295533e-02, -2.26418182e-01,\n",
       "         -5.62627008e-03],\n",
       "        [-1.16666250e-01, -1.20417863e-01,  1.91598982e-01,\n",
       "         -1.15699591e-02,  3.09829623e-01, -2.62205094e-01,\n",
       "         -2.46732742e-01, -3.23436670e-02,  8.15474316e-02,\n",
       "          2.00386718e-01],\n",
       "        [ 1.02916837e-01, -4.83548269e-02, -2.17389509e-01,\n",
       "         -2.74369001e-01, -5.03854863e-02,  1.86532184e-01,\n",
       "          3.00846130e-01,  3.00580207e-02, -4.81981635e-01,\n",
       "          1.67900920e-02],\n",
       "        [ 4.22391780e-02,  3.02395165e-01,  1.63718965e-02,\n",
       "         -1.36831418e-01,  2.26516783e-01,  1.23270072e-01,\n",
       "         -2.70867329e-02, -2.02404469e-01, -1.18699536e-01,\n",
       "          3.77341057e-03],\n",
       "        [-1.96017087e-01,  3.24677914e-01, -2.53806740e-01,\n",
       "         -4.14556473e-01, -3.41159515e-02, -1.27919942e-01,\n",
       "          9.33603570e-02, -1.55200914e-01,  4.01377052e-01,\n",
       "          1.95855405e-02],\n",
       "        [-2.28053868e-01,  6.34111017e-02, -3.83254617e-01,\n",
       "         -8.63319933e-02, -7.37250447e-02,  2.78125823e-01,\n",
       "         -2.83129066e-01,  1.03157260e-01,  6.19404949e-02,\n",
       "          3.76624614e-01],\n",
       "        [-1.91411212e-01,  2.37378463e-01,  9.33057591e-02,\n",
       "         -2.07956806e-01,  7.11420625e-02, -2.78648555e-01,\n",
       "         -2.00078145e-01,  2.52879649e-01,  7.69937411e-02,\n",
       "         -3.15206558e-01],\n",
       "        [-1.54353842e-01, -1.99001253e-01, -3.81067604e-01,\n",
       "         -1.58109993e-01,  4.26877052e-01,  2.72372186e-01,\n",
       "         -3.86526525e-01, -1.09272137e-01,  3.58358681e-01,\n",
       "          2.53687292e-01],\n",
       "        [-1.55800134e-01,  4.61486094e-02, -8.11379626e-02,\n",
       "          1.17063159e-02,  1.81858763e-01,  1.95502937e-01,\n",
       "          2.31042504e-01, -2.16059349e-02,  1.79502621e-01,\n",
       "          3.24883997e-01],\n",
       "        [-3.32255006e-01,  3.59889328e-01, -7.04259276e-02,\n",
       "         -4.21685398e-01,  6.51789829e-02,  2.84295470e-01,\n",
       "          3.65668058e-01, -3.67740780e-01,  1.60658762e-01,\n",
       "         -2.49819428e-01],\n",
       "        [ 4.34331000e-01, -3.23845476e-01,  7.48490728e-03,\n",
       "          2.76931643e-01, -6.28101639e-03, -4.04760018e-02,\n",
       "          3.39240998e-01, -3.22723210e-01, -2.62440830e-01,\n",
       "         -2.62301296e-01],\n",
       "        [ 1.28344312e-01, -3.43360864e-02, -8.74271467e-02,\n",
       "          1.57504767e-01,  1.62254050e-01,  5.48687056e-02,\n",
       "         -1.69589117e-01, -2.24842742e-01,  1.30222142e-01,\n",
       "          3.42035107e-02],\n",
       "        [-1.47819575e-02,  8.91687721e-03,  1.02488846e-02,\n",
       "         -1.93514913e-01, -1.83252439e-01,  2.29868591e-01,\n",
       "          1.81837231e-01,  1.59600437e-01,  7.50226974e-02,\n",
       "          1.25711426e-01],\n",
       "        [ 2.05696777e-01, -9.25976709e-02,  1.18264873e-02,\n",
       "         -1.38673812e-01,  1.43599525e-01, -2.90875405e-01,\n",
       "          4.17357087e-02,  3.83221328e-01,  1.56683892e-01,\n",
       "          3.10680736e-02],\n",
       "        [-1.37125477e-01, -8.56280550e-02,  6.28300607e-02,\n",
       "         -1.01390950e-01,  1.43728405e-01,  4.30571474e-02,\n",
       "          9.11325589e-02,  1.74988374e-01,  7.33291730e-02,\n",
       "          9.60749947e-03],\n",
       "        [ 4.14699167e-01, -3.10638934e-01, -6.46490008e-02,\n",
       "          1.33515358e-01, -7.24991038e-02,  5.11380792e-01,\n",
       "         -6.42727539e-02, -2.33835429e-02,  2.80291945e-01,\n",
       "         -1.10882241e-02],\n",
       "        [ 1.57773927e-01, -2.24965900e-01,  8.74957349e-03,\n",
       "         -7.22334385e-02, -3.64215463e-01, -2.27152064e-01,\n",
       "          1.33310156e-02,  3.98030937e-01, -1.47689328e-01,\n",
       "         -2.66209185e-01],\n",
       "        [-2.11511567e-01,  1.52593017e-01,  1.70365032e-02,\n",
       "         -1.64294437e-01,  2.41456628e-01, -1.87171921e-01,\n",
       "          3.74132618e-02, -2.35398524e-02,  7.80340731e-02,\n",
       "         -7.72441253e-02],\n",
       "        [ 3.29971947e-02,  1.72033384e-01,  5.74126720e-01,\n",
       "          3.73422742e-01, -2.76533335e-01, -2.52203971e-01,\n",
       "         -3.14433277e-01, -1.67870820e-01,  1.41753718e-01,\n",
       "         -3.35377008e-01],\n",
       "        [-2.00140074e-01, -6.07403740e-02,  1.53922394e-01,\n",
       "         -1.90028742e-01,  7.07964674e-02,  2.33185776e-02,\n",
       "          9.51603279e-02, -7.94937685e-02,  3.89199220e-02,\n",
       "         -1.84570804e-01],\n",
       "        [ 2.06118330e-01, -5.62698841e-02,  1.98464394e-01,\n",
       "         -2.71018058e-01, -3.70290428e-01, -2.02079833e-01,\n",
       "         -1.89473033e-01, -1.25058368e-01,  2.72462338e-01,\n",
       "         -3.39749992e-01],\n",
       "        [ 8.13782960e-02,  2.16744781e-01, -1.81118414e-01,\n",
       "          9.16229337e-02, -1.56930462e-01, -2.17726067e-01,\n",
       "          8.52575079e-02, -1.37463242e-01,  7.24558160e-02,\n",
       "         -2.18626752e-01],\n",
       "        [ 1.31950617e-01,  5.53805679e-02, -1.41941741e-01,\n",
       "          1.40838027e-02,  1.97531939e-01,  1.15905337e-01,\n",
       "          1.27741635e-01,  4.26288880e-03, -8.80586170e-03,\n",
       "          7.93684646e-02],\n",
       "        [-4.56277400e-01,  3.59525293e-01, -8.56880918e-02,\n",
       "          3.96360070e-01,  2.07151026e-01, -9.29346010e-02,\n",
       "          2.50669313e-04, -4.00860846e-01,  3.62303853e-01,\n",
       "         -8.97848383e-02],\n",
       "        [ 3.91715914e-02, -6.91457167e-02, -2.58302897e-01,\n",
       "          1.05254091e-01,  2.50775397e-01, -2.08042100e-01,\n",
       "         -5.70940450e-02,  7.46135041e-02, -1.11642778e-01,\n",
       "          2.01193541e-01],\n",
       "        [-1.51149541e-01, -1.12735696e-01,  3.73928487e-01,\n",
       "         -1.62885159e-01,  2.00987548e-01,  6.83101043e-02,\n",
       "          4.94716257e-01, -3.19603622e-01,  6.84167743e-02,\n",
       "         -3.63943726e-01],\n",
       "        [ 1.30780451e-02, -6.61194026e-02, -2.55881071e-01,\n",
       "          2.02545628e-01, -1.69905558e-01, -1.92227196e-02,\n",
       "          1.64435208e-01, -1.67191431e-01,  1.38605833e-01,\n",
       "          2.69023776e-01],\n",
       "        [-6.25189543e-02, -1.17053598e-01, -1.05113164e-01,\n",
       "         -2.70565182e-01, -1.33360003e-03,  3.24339680e-02,\n",
       "          9.00266767e-02,  2.57447302e-01,  4.90928665e-02,\n",
       "         -1.70351028e-01],\n",
       "        [-1.14697129e-01, -4.21266228e-01, -1.38152838e-01,\n",
       "         -8.28943700e-02,  2.44110689e-01, -1.31023854e-01,\n",
       "         -3.94503891e-01,  5.48125565e-01, -1.23501047e-01,\n",
       "          4.28360015e-01],\n",
       "        [-4.15670350e-02,  1.25317410e-01, -2.59479314e-01,\n",
       "         -2.36366376e-01, -1.51620641e-01, -3.04136984e-03,\n",
       "         -1.12518176e-01,  2.56150961e-03, -3.77270341e-01,\n",
       "         -5.36068045e-02],\n",
       "        [-1.46805614e-01, -4.07976024e-02, -3.83874141e-02,\n",
       "         -6.38404265e-02, -1.51799649e-01,  3.16398174e-01,\n",
       "          1.22344702e-01,  3.52986045e-02, -1.88066795e-01,\n",
       "         -3.41831287e-03],\n",
       "        [-3.66539598e-01,  2.83978581e-01,  1.01470523e-01,\n",
       "          1.67110696e-01, -7.15351775e-02, -1.80410668e-01,\n",
       "          1.91805243e-01,  2.61878490e-01, -2.75785625e-02,\n",
       "          2.34554440e-01],\n",
       "        [ 4.30238873e-01, -1.66203603e-01,  3.97584379e-01,\n",
       "          9.54248244e-04,  7.90075064e-02, -3.41706276e-01,\n",
       "         -2.30921134e-01,  2.45836139e-01, -3.38020712e-01,\n",
       "          6.96579218e-02],\n",
       "        [ 3.89826238e-01, -2.95340419e-01, -5.99398129e-02,\n",
       "          1.91147089e-01, -4.35434192e-01, -1.51452079e-01,\n",
       "         -2.47899219e-02, -2.76160687e-01,  1.33062273e-01,\n",
       "         -1.64422333e-01],\n",
       "        [-2.64402717e-01, -2.55619705e-01, -1.70654133e-01,\n",
       "         -1.65393740e-01, -2.57411450e-01, -1.03815362e-01,\n",
       "         -1.78050891e-01,  2.68026859e-01,  2.69659698e-01,\n",
       "         -1.09452315e-01],\n",
       "        [ 1.80205986e-01,  1.81419432e-01,  3.93291637e-02,\n",
       "          1.75748229e-01, -5.71609914e-01,  2.76888818e-01,\n",
       "         -2.23661244e-01,  1.56781107e-01, -1.49393111e-01,\n",
       "          3.50832254e-01],\n",
       "        [-2.22143427e-01, -1.52255734e-02, -1.36987478e-01,\n",
       "         -1.70466676e-01,  1.32367760e-01, -1.43560305e-01,\n",
       "          5.52650876e-02,  2.69924216e-02, -3.83912265e-01,\n",
       "         -1.77046046e-01],\n",
       "        [ 4.12473194e-02,  6.95574656e-02,  1.74329147e-01,\n",
       "          4.76714671e-02,  3.78072448e-02, -6.12413920e-02,\n",
       "          1.86092824e-01, -2.84305066e-01, -1.36284560e-01,\n",
       "          1.03389649e-02],\n",
       "        [-2.28941634e-01,  2.49506861e-01,  4.04656380e-01,\n",
       "          4.45703804e-01, -3.94411415e-01, -1.99552983e-01,\n",
       "         -3.48184824e-01,  2.73045838e-01, -1.99655160e-01,\n",
       "          1.36302844e-01],\n",
       "        [ 3.99477452e-01, -4.58044261e-02, -1.30352050e-01,\n",
       "          9.94167626e-02, -2.83790171e-01, -2.44326323e-01,\n",
       "         -1.81733876e-01, -1.84570372e-01,  2.37942129e-01,\n",
       "         -1.30635709e-01],\n",
       "        [-2.23113894e-01, -2.31011152e-01,  2.63806403e-01,\n",
       "          2.82536596e-01,  3.06900442e-01,  1.98135465e-01,\n",
       "         -3.65117878e-01, -2.81180412e-01,  9.27037969e-02,\n",
       "         -1.48100317e-01],\n",
       "        [-4.76183556e-02, -1.71343282e-01,  2.29074061e-01,\n",
       "         -2.23410964e-01,  7.51522258e-02, -1.86825082e-01,\n",
       "         -7.33959824e-02, -1.81387186e-01,  1.76495433e-01,\n",
       "         -2.66929388e-01],\n",
       "        [-7.18930960e-02, -3.32169197e-02,  1.62794039e-01,\n",
       "          3.70795071e-01,  2.69526720e-01, -3.38614523e-01,\n",
       "          1.45394765e-02,  5.01284122e-01, -3.27703774e-01,\n",
       "          1.11220703e-01],\n",
       "        [-1.99221954e-01,  1.48996025e-01,  3.37436497e-01,\n",
       "          1.75022662e-01,  1.08941108e-01,  2.35507786e-02,\n",
       "         -7.36350343e-02, -1.70361847e-01,  1.38096914e-01,\n",
       "         -1.02135450e-01],\n",
       "        [-2.62591779e-01, -1.12851784e-01,  1.97702006e-01,\n",
       "         -2.21580178e-01, -8.83855596e-02, -1.80335879e-01,\n",
       "         -1.59929469e-01,  1.94916755e-01, -1.39631152e-01,\n",
       "         -2.36536473e-01],\n",
       "        [-2.70833522e-01,  4.72920621e-03,  3.02796274e-01,\n",
       "          2.34725982e-01, -2.80871958e-01, -2.71643132e-01,\n",
       "         -2.17096999e-01, -1.26072824e-01,  2.88715839e-01,\n",
       "          2.45511651e-01],\n",
       "        [ 6.05525114e-02,  1.55362472e-01,  1.72746837e-01,\n",
       "         -2.73572862e-01,  9.01578292e-02,  6.72061890e-02,\n",
       "         -1.12878382e-01,  1.48946866e-01,  2.22421199e-01,\n",
       "         -8.07858035e-02],\n",
       "        [ 6.19146228e-02,  3.99713479e-02,  1.46844923e-01,\n",
       "         -8.32942352e-02,  1.45794466e-01,  4.35724156e-04,\n",
       "         -9.24152508e-02,  8.69228598e-03,  1.48561627e-01,\n",
       "         -2.15210058e-02],\n",
       "        [-6.29615318e-03,  2.21450031e-01,  9.94986668e-02,\n",
       "         -1.48650303e-01, -2.30799034e-01, -3.36257339e-01,\n",
       "         -2.24625230e-01,  2.80430466e-01, -2.09186658e-01,\n",
       "          2.59166956e-01],\n",
       "        [-1.39267728e-01,  1.20567843e-01, -5.80475666e-02,\n",
       "          2.90412277e-01,  2.01002687e-01,  1.93599671e-01,\n",
       "         -1.89100459e-01,  2.24332720e-01,  1.74360499e-01,\n",
       "         -1.50278315e-01],\n",
       "        [-1.99243829e-01,  1.47322506e-01, -1.04072630e-01,\n",
       "          7.85380900e-02,  1.64485946e-01,  1.67805463e-01,\n",
       "         -1.99722022e-01, -1.95303753e-01, -1.82364449e-01,\n",
       "          1.95307955e-02],\n",
       "        [-2.13031739e-01, -1.07035995e-01,  2.58284003e-01,\n",
       "         -1.37235492e-01,  1.40861139e-01,  3.85168433e-01,\n",
       "         -6.51662126e-02,  1.95347354e-01, -2.83107430e-01,\n",
       "         -3.07471186e-01],\n",
       "        [ 3.26507360e-01, -1.83011785e-01,  5.76816015e-02,\n",
       "         -3.11637759e-01,  9.32248309e-02,  1.64211646e-01,\n",
       "          2.77473360e-01, -2.16342598e-01, -1.56153575e-01,\n",
       "          2.99295545e-01],\n",
       "        [ 1.75444901e-01,  1.55746356e-01, -1.20832227e-01,\n",
       "         -2.31782854e-01,  3.41034532e-01, -3.13251615e-01,\n",
       "          3.26922566e-01,  2.82406241e-01, -4.23184395e-01,\n",
       "          2.11496562e-01],\n",
       "        [ 2.03404963e-01,  2.13826463e-01,  2.12855011e-01,\n",
       "         -9.25546736e-02, -2.18481094e-01,  2.75401026e-01,\n",
       "         -2.01580867e-01,  1.88085034e-01,  1.71174318e-01,\n",
       "         -9.45960060e-02],\n",
       "        [ 9.47593823e-02,  5.23719966e-01, -1.45073503e-01,\n",
       "          1.39656454e-01, -6.32845759e-02,  2.88138568e-01,\n",
       "         -1.32648006e-01,  1.00324437e-01, -4.60173488e-01,\n",
       "         -2.17041507e-01],\n",
       "        [ 4.16436523e-01, -3.37865174e-01, -2.72979468e-01,\n",
       "         -1.93895474e-02,  3.01172376e-01,  3.56678665e-01,\n",
       "         -1.96593046e-01,  7.48395920e-02,  1.38948023e-01,\n",
       "          1.11002594e-01],\n",
       "        [ 5.54701034e-03, -3.10357511e-01,  2.31794357e-01,\n",
       "         -3.76897037e-01,  2.81440824e-01, -3.25741917e-01,\n",
       "          4.36741889e-01, -3.21472287e-01,  2.52323747e-01,\n",
       "          3.35407525e-01],\n",
       "        [-1.30123824e-01,  1.45172268e-01,  6.20437004e-02,\n",
       "          2.10886911e-01,  3.30423862e-01, -8.27061683e-02,\n",
       "         -2.06123665e-01, -1.66625336e-01,  1.71367273e-01,\n",
       "          2.64342010e-01],\n",
       "        [ 2.22501934e-01, -6.11290708e-02,  6.80580288e-02,\n",
       "         -2.00932607e-01,  1.19131975e-01,  3.34536195e-01,\n",
       "         -1.29384607e-01, -8.21466371e-02,  1.20084077e-01,\n",
       "         -9.60813165e-02],\n",
       "        [ 2.68178314e-01, -2.81309098e-01,  1.00227848e-01,\n",
       "         -1.34299293e-01, -1.54773310e-01,  2.53717929e-01,\n",
       "          6.28638938e-02,  2.05503814e-02,  4.16617328e-03,\n",
       "          2.73049891e-01],\n",
       "        [-3.78082842e-01, -2.33029142e-01,  3.51154268e-01,\n",
       "          8.91018957e-02, -3.29483569e-01,  4.56437856e-01,\n",
       "         -2.17135608e-01, -3.57101299e-03, -1.79069787e-01,\n",
       "         -1.73293352e-01],\n",
       "        [-1.23091102e-01,  9.65721607e-02,  1.38460621e-01,\n",
       "          9.54118371e-02, -1.56046197e-01, -1.27664860e-02,\n",
       "          2.39386171e-01, -1.34355068e-01, -2.04706177e-01,\n",
       "          1.97009772e-01],\n",
       "        [ 2.30548039e-01,  2.56991744e-01,  2.26323679e-01,\n",
       "         -2.18364999e-01,  5.89140318e-02, -1.17379250e-02,\n",
       "          6.14792444e-02,  1.99347168e-01, -3.20498973e-01,\n",
       "         -3.37419540e-01],\n",
       "        [-2.54335880e-01, -1.37293622e-01, -2.03424424e-01,\n",
       "          1.36381909e-01, -1.77940086e-01, -8.71660262e-02,\n",
       "         -4.00103331e-01,  2.62495607e-01,  2.37345248e-01,\n",
       "          4.21509668e-02],\n",
       "        [-2.64583290e-01,  4.70303088e-01, -3.34946752e-01,\n",
       "          3.22544992e-01, -1.96431689e-02, -3.08083832e-01,\n",
       "          1.39811516e-01,  1.09039515e-01, -3.54830235e-01,\n",
       "          1.03788391e-01],\n",
       "        [ 2.33408630e-01, -3.80549952e-03,  1.74016878e-01,\n",
       "          1.60622299e-01,  1.58979967e-01, -1.51151031e-01,\n",
       "         -1.79524615e-01, -1.81095898e-02,  5.87943643e-02,\n",
       "         -9.86701548e-02],\n",
       "        [ 1.98218331e-01,  1.74312890e-01,  3.06174338e-01,\n",
       "          1.49196699e-01,  4.84085456e-02,  2.65091777e-01,\n",
       "         -2.04012647e-01,  2.24355623e-01, -3.67414564e-01,\n",
       "         -9.24491584e-02],\n",
       "        [-1.74092785e-01, -2.37313822e-01, -7.48581253e-03,\n",
       "         -1.30202984e-02, -3.15326005e-01,  1.43121883e-01,\n",
       "          3.91650379e-01, -2.81476647e-01,  2.84089893e-01,\n",
       "         -2.06293523e-01],\n",
       "        [-8.48688930e-02, -1.93347223e-02,  2.20615655e-01,\n",
       "         -1.78892165e-03,  1.64511606e-01,  1.76246822e-01,\n",
       "          2.78665036e-01,  6.73061907e-02,  1.07871950e-01,\n",
       "         -2.02282235e-01],\n",
       "        [ 7.98517615e-02, -1.28247976e-01, -2.92709738e-01,\n",
       "          2.53559768e-01, -7.82687664e-02,  4.51162964e-01,\n",
       "         -1.72184989e-01,  3.91877770e-01, -8.61905962e-02,\n",
       "         -3.05585802e-01],\n",
       "        [-1.98780894e-01, -2.33779013e-01,  4.87788171e-02,\n",
       "          2.12778896e-02, -2.42858082e-01,  1.74959496e-01,\n",
       "          1.76130682e-01,  2.42999494e-01, -1.57738224e-01,\n",
       "         -3.64167571e-01],\n",
       "        [-6.54484183e-02,  3.34802330e-01,  3.06579918e-01,\n",
       "          1.09809525e-01, -1.95787504e-01, -2.02465296e-01,\n",
       "         -1.79346904e-01,  1.83381543e-01, -1.49190277e-01,\n",
       "         -4.88002039e-02],\n",
       "        [ 1.88324615e-01,  1.54463708e-01, -1.16894431e-01,\n",
       "          9.18251500e-02,  2.10478917e-01, -1.85054943e-01,\n",
       "          1.04473280e-02,  7.59784430e-02,  1.69526026e-01,\n",
       "          1.86377510e-01],\n",
       "        [ 3.97938371e-01, -7.91108385e-02,  3.38798970e-01,\n",
       "         -3.99175346e-01, -2.44632483e-01,  2.02044934e-01,\n",
       "         -1.41545094e-03, -2.59870201e-01,  2.31546581e-01,\n",
       "         -1.16744757e-01]], dtype=float32),\n",
       " array([-0.09507117,  0.11903305, -0.02429683, -0.04457971,  0.01872647,\n",
       "         0.27735004, -0.04269027,  0.07252126, -0.26888764, -0.01210455],\n",
       "       dtype=float32)]"
      ]
     },
     "execution_count": 40,
     "metadata": {},
     "output_type": "execute_result"
    }
   ],
   "source": [
    "\n",
    "model.get_weights()"
   ]
  }
 ],
 "metadata": {
  "kernelspec": {
   "display_name": "Python 3",
   "language": "python",
   "name": "python3"
  },
  "language_info": {
   "codemirror_mode": {
    "name": "ipython",
    "version": 3
   },
   "file_extension": ".py",
   "mimetype": "text/x-python",
   "name": "python",
   "nbconvert_exporter": "python",
   "pygments_lexer": "ipython3",
   "version": "3.12.0"
  }
 },
 "nbformat": 4,
 "nbformat_minor": 2
}
